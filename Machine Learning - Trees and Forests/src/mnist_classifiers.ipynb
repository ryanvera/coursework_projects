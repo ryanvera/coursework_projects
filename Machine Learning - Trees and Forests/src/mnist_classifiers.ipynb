{
 "cells": [
  {
   "cell_type": "code",
   "execution_count": 5,
   "metadata": {},
   "outputs": [],
   "source": [
    "from sklearn.datasets import fetch_openml\n",
    "from sklearn.model_selection import train_test_split\n",
    "\n",
    "# Classifiers\n",
    "from sklearn.tree import DecisionTreeClassifier\n",
    "from sklearn.ensemble import BaggingClassifier\n",
    "from sklearn.ensemble import RandomForestClassifier\n",
    "from sklearn.ensemble import GradientBoostingClassifier\n",
    "\n",
    "from sklearn.metrics import accuracy_score\n"
   ]
  },
  {
   "cell_type": "code",
   "execution_count": 6,
   "metadata": {},
   "outputs": [],
   "source": [
    "# Load MNIST data set\n",
    "X, y = fetch_openml(\"mnist_784\", version=1, return_X_y=True, parser=\"auto\")\n",
    "X = X / 255\n",
    "\n",
    "trainX, testX, trainY, testY = train_test_split(X, y, test_size=(1/7))"
   ]
  },
  {
   "cell_type": "markdown",
   "metadata": {},
   "source": [
    "Decision Tree Classifier"
   ]
  },
  {
   "cell_type": "code",
   "execution_count": 7,
   "metadata": {},
   "outputs": [
    {
     "name": "stdout",
     "output_type": "stream",
     "text": [
      "Decision Tree Report\n",
      "Accuracy:  0.878\n",
      "-----------------------------------------------\n"
     ]
    }
   ],
   "source": [
    "# Create decision tree\n",
    "decisionTree = DecisionTreeClassifier()\n",
    "\n",
    "\n",
    "# Train tree on data\n",
    "decisionTree.fit(trainX, trainY)\n",
    "\n",
    "\n",
    "# Test decision tree\n",
    "decisionPredictions = decisionTree.predict(testX)\n",
    "\n",
    "\n",
    "# Print accuracy\n",
    "print(\"Decision Tree Report\")\n",
    "print(\"Accuracy: \", accuracy_score(testY, decisionPredictions))\n",
    "print(\"-----------------------------------------------\")"
   ]
  },
  {
   "cell_type": "markdown",
   "metadata": {},
   "source": [
    "Bagging Tree Classifier"
   ]
  },
  {
   "cell_type": "code",
   "execution_count": 8,
   "metadata": {},
   "outputs": [
    {
     "name": "stdout",
     "output_type": "stream",
     "text": [
      "Bagging Tree Report\n",
      "Accuracy:  0.9398\n",
      "-----------------------------------------------\n"
     ]
    }
   ],
   "source": [
    "# Create bagging tree classifier\n",
    "baggingTree = BaggingClassifier()\n",
    "\n",
    "# Train tree on data\n",
    "baggingTree.fit(trainX, trainY)\n",
    "\n",
    "# Test tree\n",
    "baggingPredictions = baggingTree.predict(testX)\n",
    "\n",
    "# Print accuracy\n",
    "print(\"Bagging Tree Report\")\n",
    "print(\"Accuracy: \", accuracy_score(testY, baggingPredictions))\n",
    "print(\"-----------------------------------------------\")"
   ]
  },
  {
   "cell_type": "markdown",
   "metadata": {},
   "source": [
    "Random Forest Classifier"
   ]
  },
  {
   "cell_type": "code",
   "execution_count": 9,
   "metadata": {},
   "outputs": [
    {
     "name": "stdout",
     "output_type": "stream",
     "text": [
      "Random Forest Report\n",
      "Accuracy:  0.9714\n",
      "-----------------------------------------------\n"
     ]
    }
   ],
   "source": [
    "# Create bagging tree classifier\n",
    "randomForest = RandomForestClassifier()\n",
    "\n",
    "# Train tree on data\n",
    "randomForest.fit(trainX, trainY)\n",
    "\n",
    "# Test tree\n",
    "forestPredictions = randomForest.predict(testX)\n",
    "\n",
    "# Print accuracy\n",
    "print(\"Random Forest Report\")\n",
    "print(\"Accuracy: \", accuracy_score(testY, forestPredictions))\n",
    "print(\"-----------------------------------------------\")"
   ]
  },
  {
   "cell_type": "markdown",
   "metadata": {},
   "source": [
    "Gradient Boost Classifier"
   ]
  },
  {
   "cell_type": "code",
   "execution_count": 10,
   "metadata": {},
   "outputs": [
    {
     "name": "stdout",
     "output_type": "stream",
     "text": [
      "Gradient Boosting Report\n",
      "Accuracy:  0.9484\n",
      "-----------------------------------------------\n"
     ]
    }
   ],
   "source": [
    "# Create bagging tree classifier\n",
    "gardientBoost = GradientBoostingClassifier()\n",
    "\n",
    "# Train tree on data\n",
    "gardientBoost.fit(trainX, trainY)\n",
    "\n",
    "# Test tree\n",
    "boostingPredictions = gardientBoost.predict(testX)\n",
    "\n",
    "# Print accuracy\n",
    "print(\"Gradient Boosting Report\")\n",
    "print(\"Accuracy: \", accuracy_score(testY, boostingPredictions))\n",
    "print(\"-----------------------------------------------\")"
   ]
  }
 ],
 "metadata": {
  "kernelspec": {
   "display_name": ".venv",
   "language": "python",
   "name": "python3"
  },
  "language_info": {
   "codemirror_mode": {
    "name": "ipython",
    "version": 3
   },
   "file_extension": ".py",
   "mimetype": "text/x-python",
   "name": "python",
   "nbconvert_exporter": "python",
   "pygments_lexer": "ipython3",
   "version": "3.11.4"
  }
 },
 "nbformat": 4,
 "nbformat_minor": 2
}
