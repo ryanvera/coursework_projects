{
 "cells": [
  {
   "cell_type": "code",
   "execution_count": 112,
   "metadata": {},
   "outputs": [],
   "source": [
    "# Used in parsing data and creating decision tree\n",
    "import pandas as pd\n",
    "from sklearn.tree import DecisionTreeClassifier\n",
    "from sklearn.ensemble import BaggingClassifier\n",
    "from sklearn import metrics\n",
    "\n",
    "# Used in visualizing the decision tree\n",
    "from sklearn import tree\n",
    "from matplotlib import pyplot as plt\n",
    "\n",
    "# Used in hyperparameter optimization (GridSearch)\n",
    "from sklearn.model_selection import GridSearchCV"
   ]
  },
  {
   "cell_type": "code",
   "execution_count": 113,
   "metadata": {},
   "outputs": [],
   "source": [
    "# List of file suffixes\n",
    "dataFileKey = {1: \"c300_d100\", \n",
    "               2: \"c300_d1000\",\n",
    "               3: \"c300_d5000\",\n",
    "               4: \"c500_d100\",\n",
    "               5: \"c500_d1000\",\n",
    "               6: \"c500_d5000\",\n",
    "               7: \"c1000_d100\",\n",
    "               8: \"c1000_d1000\",\n",
    "               9: \"c1000_d5000\",\n",
    "               10: \"c1500_d100\",\n",
    "               11: \"c1500_d1000\",\n",
    "               12: \"c1500_d5000\",\n",
    "               13: \"c1800_d100\",\n",
    "               14: \"c1800_d1000\",\n",
    "               15: \"c1800_d5000\"}\n",
    "\n",
    "# File suffix key number\n",
    "dataFileKeyNum:int = 15"
   ]
  },
  {
   "cell_type": "code",
   "execution_count": 114,
   "metadata": {},
   "outputs": [],
   "source": [
    "# Load data sets, all from the same grouping\n",
    "\n",
    "# Training data\n",
    "filePath = \"..\\project2_data\\\\train_\" + dataFileKey[dataFileKeyNum] + \".csv\"\n",
    "trainData = pd.read_csv(filePath, header = None)\n",
    "\n",
    "# Test data\n",
    "filePath = \"..\\project2_data\\\\test_\" + dataFileKey[dataFileKeyNum] + \".csv\"\n",
    "testData = pd.read_csv(filePath, header = None)\n",
    "\n",
    "# Validation data\n",
    "filePath = \"..\\project2_data\\\\valid_\" + dataFileKey[dataFileKeyNum] + \".csv\"\n",
    "validData = pd.read_csv(filePath, header = None)"
   ]
  },
  {
   "cell_type": "code",
   "execution_count": 118,
   "metadata": {},
   "outputs": [],
   "source": [
    "# Split data sets into features and classes\n",
    "\n",
    "# Training Data Split\n",
    "trainX = trainData.drop(columns=[trainData.columns[-1]])\n",
    "trainY = trainData.iloc[:, -1:]\n",
    "\n",
    "# Testing Data Split\n",
    "testX = testData.drop(columns=[testData.columns[-1]])\n",
    "testY = testData.iloc[:, -1:]\n",
    "\n",
    "# Validation Data Split\n",
    "validX = validData.drop(columns=[validData.columns[-1]])\n",
    "validY = validData.iloc[:, -1:]\n",
    "\n",
    "# Combine train and validation data\n",
    "combineX = pd.concat([trainX, validX], ignore_index=True)\n",
    "combineY = pd.concat([trainY, validY], ignore_index=True)\n",
    "\n"
   ]
  },
  {
   "cell_type": "markdown",
   "metadata": {},
   "source": [
    "The code below will create, train, and optimize a Bagging Classifier with a Decision Tree as the base estimator. Optimization is performed with GridSearchCV.\n",
    "\n",
    "https://scikit-learn.org/stable/modules/generated/sklearn.ensemble.BaggingClassifier.html\n",
    "\n",
    "https://scikit-learn.org/stable/modules/generated/sklearn.model_selection.GridSearchCV.html"
   ]
  },
  {
   "cell_type": "code",
   "execution_count": 116,
   "metadata": {},
   "outputs": [
    {
     "name": "stderr",
     "output_type": "stream",
     "text": [
      "c:\\Work\\College\\Grad\\Fall 2023\\Machine Learning\\Project2_Vera\\.venv\\Lib\\site-packages\\sklearn\\ensemble\\_bagging.py:802: DataConversionWarning: A column-vector y was passed when a 1d array was expected. Please change the shape of y to (n_samples, ), for example using ravel().\n",
      "  y = column_or_1d(y, warn=True)\n"
     ]
    },
    {
     "name": "stdout",
     "output_type": "stream",
     "text": [
      "GridSearch Bagging Tree\n",
      "Best params: {'bootstrap': True, 'bootstrap_features': False, 'max_samples': 4850}\n",
      "Best score: 0.9938\n",
      "----------------------------------------------------------\n"
     ]
    }
   ],
   "source": [
    "# Hyper-parameter options\n",
    "grid_params = {\n",
    "    \"bootstrap\": [True],\n",
    "    \"bootstrap_features\": [False],\n",
    "    \"max_samples\": range(50, 5000, 100),\n",
    "}\n",
    "\n",
    "# Create Bagging Classifier\n",
    "baggingTree = BaggingClassifier()\n",
    "\n",
    "gridBagger = GridSearchCV(baggingTree, param_grid=grid_params, cv=5, verbose=0, n_jobs=-1)\n",
    "gridBagger.fit(trainX, trainY)\n",
    "\n",
    "\n",
    "# Print report\n",
    "print(\"GridSearch Bagging Tree\")\n",
    "print(\"Best params: \" + str(gridBagger.best_params_))\n",
    "print(\"Best score: \" + str(gridBagger.best_score_))\n",
    "print(\"----------------------------------------------------------\")\n",
    "\n"
   ]
  },
  {
   "cell_type": "markdown",
   "metadata": {},
   "source": [
    "The code below will create a new bagging tree with the best paramters. It will be trained on the combination data set and tested on the test set."
   ]
  },
  {
   "cell_type": "code",
   "execution_count": 117,
   "metadata": {},
   "outputs": [
    {
     "name": "stderr",
     "output_type": "stream",
     "text": [
      "c:\\Work\\College\\Grad\\Fall 2023\\Machine Learning\\Project2_Vera\\.venv\\Lib\\site-packages\\sklearn\\ensemble\\_bagging.py:802: DataConversionWarning: A column-vector y was passed when a 1d array was expected. Please change the shape of y to (n_samples, ), for example using ravel().\n",
      "  y = column_or_1d(y, warn=True)\n"
     ]
    },
    {
     "name": "stdout",
     "output_type": "stream",
     "text": [
      "Re-trained tree\n",
      "Accuracy:  0.9926\n",
      "F1 Score: 0.9925717727363983\n",
      "Precision: 0.9963724304715841\n"
     ]
    }
   ],
   "source": [
    "# Create another tree with the best parameters\n",
    "bestTree = gridBagger.best_estimator_\n",
    "bestTree.fit(combineX, combineY)\n",
    "\n",
    "# Print report\n",
    "print(\"Re-trained tree\")\n",
    "predictions = bestTree.predict(testX)\n",
    "\n",
    "\n",
    "print(\"Accuracy: \", metrics.accuracy_score(testY, predictions))\n",
    "print(\"F1 Score: \" + str(metrics.f1_score(testY, predictions)))\n",
    "print(\"Precision: \" + str(metrics.precision_score(testY, predictions)))"
   ]
  }
 ],
 "metadata": {
  "kernelspec": {
   "display_name": ".venv",
   "language": "python",
   "name": "python3"
  },
  "language_info": {
   "codemirror_mode": {
    "name": "ipython",
    "version": 3
   },
   "file_extension": ".py",
   "mimetype": "text/x-python",
   "name": "python",
   "nbconvert_exporter": "python",
   "pygments_lexer": "ipython3",
   "version": "3.11.4"
  }
 },
 "nbformat": 4,
 "nbformat_minor": 2
}
