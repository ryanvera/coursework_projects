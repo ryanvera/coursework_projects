{
 "cells": [
  {
   "cell_type": "code",
   "execution_count": 115,
   "metadata": {},
   "outputs": [],
   "source": [
    "# Used in parsing data and creating decision tree\n",
    "import pandas as pd\n",
    "import numpy as np\n",
    "from sklearn.ensemble import GradientBoostingClassifier\n",
    "from sklearn import metrics\n",
    "\n",
    "# Used in visualizing the decision tree\n",
    "from sklearn import tree\n",
    "from matplotlib import pyplot as plt\n",
    "\n",
    "# Used in hyperparameter optimization (GridSearch)\n",
    "from sklearn.model_selection import GridSearchCV\n",
    "\n",
    "import winsound"
   ]
  },
  {
   "cell_type": "code",
   "execution_count": 116,
   "metadata": {},
   "outputs": [],
   "source": [
    "# List of file suffixes\n",
    "dataFileKey = {1: \"c300_d100\", \n",
    "               2: \"c300_d1000\",\n",
    "               3: \"c300_d5000\",\n",
    "               4: \"c500_d100\",\n",
    "               5: \"c500_d1000\",\n",
    "               6: \"c500_d5000\",\n",
    "               7: \"c1000_d100\",\n",
    "               8: \"c1000_d1000\",\n",
    "               9: \"c1000_d5000\",\n",
    "               10: \"c1500_d100\",\n",
    "               11: \"c1500_d1000\",\n",
    "               12: \"c1500_d5000\",\n",
    "               13: \"c1800_d100\",\n",
    "               14: \"c1800_d1000\",\n",
    "               15: \"c1800_d5000\"}\n",
    "\n",
    "# File suffix key number\n",
    "dataFileKeyNum:int = 15"
   ]
  },
  {
   "cell_type": "code",
   "execution_count": 117,
   "metadata": {},
   "outputs": [],
   "source": [
    "# Load data sets, all from the same grouping\n",
    "\n",
    "# Training data\n",
    "filePath = \"..\\project2_data\\\\train_\" + dataFileKey[dataFileKeyNum] + \".csv\"\n",
    "trainData = pd.read_csv(filePath, header = None)\n",
    "\n",
    "# Test data\n",
    "filePath = \"..\\project2_data\\\\test_\" + dataFileKey[dataFileKeyNum] + \".csv\"\n",
    "testData = pd.read_csv(filePath, header = None)\n",
    "\n",
    "# Validation data\n",
    "filePath = \"..\\project2_data\\\\valid_\" + dataFileKey[dataFileKeyNum] + \".csv\"\n",
    "validData = pd.read_csv(filePath, header = None)"
   ]
  },
  {
   "cell_type": "code",
   "execution_count": 118,
   "metadata": {},
   "outputs": [],
   "source": [
    "# Split data sets into features and classes\n",
    "\n",
    "# Training Data Split\n",
    "trainX = trainData.drop(columns=[trainData.columns[-1]])\n",
    "trainY = trainData.iloc[:, -1:]\n",
    "\n",
    "# Testing Data Split\n",
    "testX = testData.drop(columns=[testData.columns[-1]])\n",
    "testY = testData.iloc[:, -1:]\n",
    "\n",
    "# Validation Data Split\n",
    "validX = validData.drop(columns=[validData.columns[-1]])\n",
    "validY = validData.iloc[:, -1:]\n",
    "\n",
    "# Combine train and validation data\n",
    "combineX = pd.concat([trainX, validX], ignore_index=True)\n",
    "combineY = pd.concat([trainY, validY], ignore_index=True)"
   ]
  },
  {
   "cell_type": "markdown",
   "metadata": {},
   "source": [
    "The code below will create, run, test, and optimize a gradient boosting classifier using GridSearchCV\n",
    "\n",
    "https://scikit-learn.org/stable/modules/generated/sklearn.ensemble.GradientBoostingClassifier.html"
   ]
  },
  {
   "cell_type": "code",
   "execution_count": 119,
   "metadata": {},
   "outputs": [
    {
     "name": "stderr",
     "output_type": "stream",
     "text": [
      "c:\\Work\\College\\Grad\\Fall 2023\\Machine Learning\\Project2_Vera\\.venv\\Lib\\site-packages\\sklearn\\ensemble\\_gb.py:424: DataConversionWarning: A column-vector y was passed when a 1d array was expected. Please change the shape of y to (n_samples, ), for example using ravel().\n",
      "  y = column_or_1d(y, warn=True)\n"
     ]
    },
    {
     "name": "stdout",
     "output_type": "stream",
     "text": [
      "GridSearch Gradient Boosting\n",
      "Best params: {'criterion': 'friedman_mse', 'learning_rate': 0.2, 'loss': 'log_loss'}\n",
      "Best score: 1.0\n",
      "----------------------------------------------------------\n"
     ]
    }
   ],
   "source": [
    "# Create GridSearch hyper-parameters\n",
    "grid_params = {\n",
    "    \"loss\": [\"log_loss\", \"exponential\"],\n",
    "    \"learning_rate\": np.arange(0.1, 1, 0.1),\n",
    "    \"criterion\": [\"friedman_mse\", \"squared_error\"],\n",
    "}\n",
    "\n",
    "# Create decision tree\n",
    "boostTree = GradientBoostingClassifier()\n",
    "\n",
    "# Init GridSearch and train model\n",
    "gridBoost = GridSearchCV(boostTree, param_grid=grid_params, cv=5, verbose=0, n_jobs=-1)\n",
    "gridBoost.fit(trainX, trainY)\n",
    "\n",
    "\n",
    "\n",
    "# Print report\n",
    "print(\"GridSearch Gradient Boosting\")\n",
    "print(\"Best params: \" + str(gridBoost.best_params_))\n",
    "print(\"Best score: \" + str(gridBoost.best_score_))\n",
    "print(\"----------------------------------------------------------\")\n",
    "\n"
   ]
  },
  {
   "cell_type": "markdown",
   "metadata": {},
   "source": [
    "The code below creates an gradient boosting classifier with the best parameters and is trained on the training and validation data sets. It is then tested on the test data set."
   ]
  },
  {
   "cell_type": "code",
   "execution_count": 120,
   "metadata": {},
   "outputs": [
    {
     "name": "stderr",
     "output_type": "stream",
     "text": [
      "c:\\Work\\College\\Grad\\Fall 2023\\Machine Learning\\Project2_Vera\\.venv\\Lib\\site-packages\\sklearn\\ensemble\\_gb.py:424: DataConversionWarning: A column-vector y was passed when a 1d array was expected. Please change the shape of y to (n_samples, ), for example using ravel().\n",
      "  y = column_or_1d(y, warn=True)\n"
     ]
    },
    {
     "name": "stdout",
     "output_type": "stream",
     "text": [
      "Re-trained tree\n",
      "Accuracy:  1.0\n",
      "F1 Score: 1.0\n",
      "Precision: 1.0\n"
     ]
    }
   ],
   "source": [
    "# Create another tree with the best parameters\n",
    "bestBoost = gridBoost.best_estimator_\n",
    "bestBoost.fit(combineX, combineY)\n",
    "\n",
    "# Print report\n",
    "print(\"Re-trained tree\")\n",
    "predictions = bestBoost.predict(testX)\n",
    "\n",
    "\n",
    "print(\"Accuracy: \", metrics.accuracy_score(testY, predictions))\n",
    "print(\"F1 Score: \" + str(metrics.f1_score(testY, predictions)))\n",
    "print(\"Precision: \" + str(metrics.precision_score(testY, predictions)))\n",
    "\n",
    "# winsound.Beep(500, 1000)"
   ]
  }
 ],
 "metadata": {
  "kernelspec": {
   "display_name": ".venv",
   "language": "python",
   "name": "python3"
  },
  "language_info": {
   "codemirror_mode": {
    "name": "ipython",
    "version": 3
   },
   "file_extension": ".py",
   "mimetype": "text/x-python",
   "name": "python",
   "nbconvert_exporter": "python",
   "pygments_lexer": "ipython3",
   "version": "3.11.4"
  }
 },
 "nbformat": 4,
 "nbformat_minor": 2
}
