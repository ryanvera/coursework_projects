{
 "cells": [
  {
   "cell_type": "code",
   "execution_count": 1,
   "metadata": {},
   "outputs": [],
   "source": [
    "import numpy as np\n",
    "import pandas as pd\n",
    "\n",
    "from sklearn.datasets import fetch_openml\n",
    "from sklearn.model_selection import train_test_split\n",
    "\n",
    "from sklearn.svm import SVC\n",
    "from sklearn.neighbors import KNeighborsClassifier\n",
    "from sklearn.metrics import accuracy_score\n",
    "\n",
    "import winsound\n",
    "\n"
   ]
  },
  {
   "cell_type": "code",
   "execution_count": 2,
   "metadata": {},
   "outputs": [
    {
     "name": "stderr",
     "output_type": "stream",
     "text": [
      "c:\\Work\\College\\Grad\\Fall 2023\\Machine Learning\\Project3_Vera\\.venv\\Lib\\site-packages\\sklearn\\datasets\\_openml.py:1022: FutureWarning: The default value of `parser` will change from `'liac-arff'` to `'auto'` in 1.4. You can set `parser='auto'` to silence this warning. Therefore, an `ImportError` will be raised from 1.4 if the dataset is dense and pandas is not installed. Note that the pandas parser may return different data types. See the Notes Section in fetch_openml's API doc for details.\n",
      "  warn(\n"
     ]
    }
   ],
   "source": [
    "X, y = fetch_openml(\"mnist_784\", version=1, return_X_y=True)\n",
    "X = X / 255\n",
    "\n",
    "trainX, testX, trainY, testY = train_test_split(X, y, test_size=(1/7))"
   ]
  },
  {
   "cell_type": "markdown",
   "metadata": {},
   "source": [
    "Support Vector Machine Classifier"
   ]
  },
  {
   "cell_type": "code",
   "execution_count": 4,
   "metadata": {},
   "outputs": [
    {
     "name": "stdout",
     "output_type": "stream",
     "text": [
      "Accuracy Score:  0.7612\n"
     ]
    }
   ],
   "source": [
    "params = {\n",
    "    \"C\": range(1),\n",
    "    \"kernel\":[\"linear\", \"poly\", \"rbf\", \"sigmoid\"],\n",
    "    \"degree\": range(3),\n",
    "}\n",
    "\n",
    "\n",
    "svm = SVC(C=10, kernel=\"sigmoid\")\n",
    "\n",
    "svm.fit(trainX, trainY)\n",
    "\n",
    "predictY = svm.predict(testX)\n",
    "accuracy = accuracy_score(testY, predictY)\n",
    "\n",
    "print(\"Accuracy Score: \", accuracy)\n",
    "\n",
    "# winsound.Beep(524, 750)\n",
    "\n"
   ]
  },
  {
   "cell_type": "markdown",
   "metadata": {},
   "source": [
    "k-Nearest Neighbors"
   ]
  },
  {
   "cell_type": "code",
   "execution_count": 15,
   "metadata": {},
   "outputs": [
    {
     "name": "stdout",
     "output_type": "stream",
     "text": [
      "Accuracy Score:  0.9647\n"
     ]
    }
   ],
   "source": [
    "params = {\n",
    "    \"n_neighbors\": range(7),\n",
    "    \"weights\": [\"uniform\"],\n",
    "    \"n_jobs\": -1\n",
    "}\n",
    "\n",
    "knn = KNeighborsClassifier(n_neighbors=21, weights=\"uniform\", algorithm=\"kd_tree\", n_jobs=-1)\n",
    "\n",
    "knn.fit(trainX, trainY)\n",
    "\n",
    "predictY = knn.predict(testX)\n",
    "accuracy = accuracy_score(testY, predictY)\n",
    "\n",
    "print(\"Accuracy Score: \", accuracy)\n",
    "\n",
    "# winsound.Beep(524, 750)"
   ]
  }
 ],
 "metadata": {
  "kernelspec": {
   "display_name": ".venv",
   "language": "python",
   "name": "python3"
  },
  "language_info": {
   "codemirror_mode": {
    "name": "ipython",
    "version": 3
   },
   "file_extension": ".py",
   "mimetype": "text/x-python",
   "name": "python",
   "nbconvert_exporter": "python",
   "pygments_lexer": "ipython3",
   "version": "3.11.4"
  }
 },
 "nbformat": 4,
 "nbformat_minor": 2
}
